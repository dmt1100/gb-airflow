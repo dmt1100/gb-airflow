{
 "cells": [
  {
   "cell_type": "markdown",
   "id": "decimal-wrestling",
   "metadata": {},
   "source": [
    "## Домашнее задание"
   ]
  },
  {
   "cell_type": "markdown",
   "id": "civilian-visiting",
   "metadata": {
    "tags": []
   },
   "source": [
    "__1.__ Какой из флагов утилиты crontab покажет список существующих кронов?\n",
    "\n",
    "Ответ: crontab -l"
   ]
  },
  {
   "cell_type": "markdown",
   "id": "thirty-recorder",
   "metadata": {},
   "source": [
    "__2.__ Напишите крон, который будет запускаться каждую пятницу в 9 часов вечера.\n",
    "\n",
    "Ответ: 0 21 * * 5"
   ]
  },
  {
   "cell_type": "markdown",
   "id": "pressed-rings",
   "metadata": {},
   "source": [
    "__3.__ Напишите крон, который будет запускаться каждое воскресенье марта месяца на протяжении всего дня с интервалом в 4 часа (т.е. запуск будет в 2021-03-07 00:00:00, затем 2021-03-07 04:00:00 и т.д.)\n",
    "\n",
    "Ответ: 0 0/4 * 3 0"
   ]
  },
  {
   "cell_type": "markdown",
   "id": "modified-numbers",
   "metadata": {
    "tags": []
   },
   "source": [
    "__4.__ Отметьте все картинки, где изображен направленный ациклический граф.\n",
    "\n",
    "<img src=\"dag_question.png\" style=\"width: 500px;\"> \n",
    "\n",
    "Ответ: 1"
   ]
  },
  {
   "cell_type": "markdown",
   "id": "loaded-dictionary",
   "metadata": {},
   "source": [
    "__5.__ Опишите своими словами, как Вы поняли, чем отличается task от operator?\n",
    "\n",
    "Ответ: Например, функция на Python, которая считывает данные и записывает в базу данных — это задача. Метод, который вызывает эту функцию на Python в Airflow — это оператор."
   ]
  }
 ],
 "metadata": {
  "kernelspec": {
   "display_name": "Python 3",
   "language": "python",
   "name": "python3"
  },
  "language_info": {
   "codemirror_mode": {
    "name": "ipython",
    "version": 3
   },
   "file_extension": ".py",
   "mimetype": "text/x-python",
   "name": "python",
   "nbconvert_exporter": "python",
   "pygments_lexer": "ipython3",
   "version": "3.8.5"
  }
 },
 "nbformat": 4,
 "nbformat_minor": 5
}
